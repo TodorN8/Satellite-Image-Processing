{
 "cells": [
  {
   "cell_type": "code",
   "execution_count": null,
   "id": "7deddfdf-d891-4507-8c26-8d7ef4fc9ba3",
   "metadata": {},
   "outputs": [],
   "source": [
    "from ipyleaflet import Map, GeomanDrawControl, basemaps\n",
    "\n",
    "south_lat = float(input(\"Enter south latitude: \"))\n",
    "west_lon = float(input(\"Enter west longitude: \"))\n",
    "north_lat = float(input(\"Enter north latitude: \"))\n",
    "east_lon = float(input(\"Enter east longitude: \"))\n",
    "\n",
    "x = (south_lat + north_lat)/2\n",
    "y = (east_lon + west_lon)/2\n",
    "\n",
    "m = Map(basemap=basemaps.Stadia.StamenTerrain, center=(x,y), zoom=5)\n",
    "\n",
    "draw_control = GeomanDrawControl()\n",
    "draw_control.polyline =  {\n",
    "    \"pathOptions\": {\n",
    "        \"color\": \"#6bc2e5\",\n",
    "        \"weight\": 8,\n",
    "        \"opacity\": 1.0\n",
    "    }\n",
    "}\n",
    "draw_control.polygon = {\n",
    "    \"pathOptions\": {\n",
    "        \"fillColor\": \"#6be5c3\",\n",
    "        \"color\": \"#6be5c3\",\n",
    "        \"fillOpacity\": 1.0\n",
    "    }\n",
    "}\n",
    "draw_control.circlemarker = {\n",
    "    \"pathOptions\": {\n",
    "        \"fillColor\": \"#efed69\",\n",
    "        \"color\": \"#efed69\",\n",
    "        \"fillOpacity\": 0.62\n",
    "    }\n",
    "}\n",
    "draw_control.rectangle = {\n",
    "    \"pathOptions\": {\n",
    "        \"fillColor\": \"#fca45d\",\n",
    "        \"color\": \"#fca45d\",\n",
    "        \"fillOpacity\": 1.0\n",
    "    }\n",
    "} \n",
    "\n",
    "feature_collection = {\n",
    "    'type': 'FeatureCollection',\n",
    "    'features': []\n",
    "}"
   ]
  },
  {
   "cell_type": "code",
   "execution_count": null,
   "id": "d0061915-63e8-4d58-a935-b5509995d72a",
   "metadata": {},
   "outputs": [],
   "source": [
    "from shapely.geometry import shape\n",
    "\n",
    "def handle_draw(self, action, geo_json):\n",
    "    feature_collection['features'].append(geo_json)\n",
    "\n",
    "draw_control.on_draw(handle_draw)\n",
    "    \n",
    "print(\"Draw a shape on the map now.\")"
   ]
  },
  {
   "cell_type": "code",
   "execution_count": null,
   "id": "aa257161-bf5d-4083-b5fa-a31a4030663e",
   "metadata": {},
   "outputs": [],
   "source": [
    "m.add_control(draw_control)\n",
    "m"
   ]
  },
  {
   "cell_type": "code",
   "execution_count": null,
   "id": "bced37a8-ae5c-48d4-84de-bfde6d8a311c",
   "metadata": {},
   "outputs": [],
   "source": [
    "if feature_collection['features']:\n",
    "    coordinates = feature_collection['features'][-1][0]['geometry']['coordinates'][0]\n",
    "    print(coordinates)\n",
    "else:\n",
    "    print(\"No shapes drawn yet.\")"
   ]
  },
  {
   "cell_type": "code",
   "execution_count": null,
   "id": "6576d31e-ac11-40dc-8454-68f98158939f",
   "metadata": {},
   "outputs": [],
   "source": [
    "from shapely.geometry import Polygon\n",
    "polygon = Polygon(coordinates)\n",
    "print(polygon)"
   ]
  },
  {
   "cell_type": "code",
   "execution_count": null,
   "id": "4cbba688-41bd-4190-b206-90f2d8cd6f61",
   "metadata": {},
   "outputs": [],
   "source": [
    "import openeo\n",
    "from shapely.geometry import Polygon\n",
    "\n",
    "polygon = Polygon(coordinates)\n",
    "\n",
    "connection = openeo.connect(\"openeofed.dataspace.copernicus.eu\")\n",
    "connection.authenticate_oidc()\n",
    "\n",
    "datacube = connection.load_collection(\n",
    "    \"SENTINEL2_L2A\",\n",
    "    spatial_extent=polygon,\n",
    "    temporal_extent=[\"2025-04-28\", \"2025-04-30\"],\n",
    "    bands=[\"B04\", \"B08\", \"SCL\"],\n",
    "    max_cloud_cover=20,\n",
    ")\n",
    "\n",
    "red = datacube.band(\"B04\") * 0.0001\n",
    "nir = datacube.band(\"B08\") * 0.0001\n",
    "scl = datacube.band(\"SCL\")\n",
    "\n",
    "ndvi = (nir - red) / (nir + red)\n",
    "\n",
    "valid_data_mask = (scl == 2) | (scl == 4)\n",
    "valid_data_mask = valid_data_mask.resample_cube_spatial(datacube)\n",
    "\n",
    "masked_ndvi = ndvi.mask(valid_data_mask)\n",
    "max_ndvi = masked_ndvi.max_time()\n",
    "\n",
    "job = max_ndvi.execute_batch()\n",
    "job.start_and_wait()\n",
    "job.download_results(\"Border_Image.geotiff\")"
   ]
  },
  {
   "cell_type": "code",
   "execution_count": null,
   "id": "932e873e-0bea-4731-b95f-7db3ff539df2",
   "metadata": {},
   "outputs": [],
   "source": [
    "import rasterio\n",
    "import matplotlib.pyplot as plt\n",
    "import os\n",
    "\n",
    "with rasterio.open(\"C:/Users/todor/Data_visualisation/Border_Image.geotiff\") as src:\n",
    "    ndvi = src.read(1)\n",
    "    print(src.shape)\n",
    "\n",
    "plt.imsave('Image.png', ndvi, cmap='RdYlGn', vmin=-1, vmax=1)\n",
    "print(\"Saved as Exercise_Image.png\")"
   ]
  },
  {
   "cell_type": "code",
   "execution_count": null,
   "id": "c3979202-aee2-49b6-bf70-5fef87c3f343",
   "metadata": {},
   "outputs": [],
   "source": [
    "from ipyleaflet import ImageOverlay\n",
    "\n",
    "image = ImageOverlay(\n",
    "    url=\"C:/Users/todor/Data_visualisation/Exercise_Image.png\",\n",
    "    bounds=coordinates\n",
    ")\n",
    "\n",
    "if rectangle:\n",
    "    m.add(image)\n",
    "m"
   ]
  }
 ],
 "metadata": {
  "kernelspec": {
   "display_name": "Python 3 (ipykernel)",
   "language": "python",
   "name": "python3"
  },
  "language_info": {
   "codemirror_mode": {
    "name": "ipython",
    "version": 3
   },
   "file_extension": ".py",
   "mimetype": "text/x-python",
   "name": "python",
   "nbconvert_exporter": "python",
   "pygments_lexer": "ipython3",
   "version": "3.11.9"
  }
 },
 "nbformat": 4,
 "nbformat_minor": 5
}
